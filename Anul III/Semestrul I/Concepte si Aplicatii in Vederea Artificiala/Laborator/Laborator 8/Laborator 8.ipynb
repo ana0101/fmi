{
 "cells": [
  {
   "cell_type": "code",
   "execution_count": 1,
   "id": "2ace948d",
   "metadata": {},
   "outputs": [],
   "source": [
    "import cv2 as cv\n",
    "import os\n",
    "import numpy as np"
   ]
  },
  {
   "cell_type": "markdown",
   "id": "61e9edff",
   "metadata": {},
   "source": [
    "## Operatii cu video-uri"
   ]
  },
  {
   "cell_type": "code",
   "execution_count": 2,
   "id": "ec19c5a3",
   "metadata": {},
   "outputs": [],
   "source": [
    "def display_video(video_path, window_name='Video', frame_delay=25):\n",
    "    cap = cv.VideoCapture(video_path)\n",
    "\n",
    "    if not cap.isOpened():\n",
    "        print(\"Error: Cannot open video.\")\n",
    "        return\n",
    "\n",
    "    while True:\n",
    "        ret, frame = cap.read()\n",
    "        if not ret:\n",
    "            print(\"End of video.\")\n",
    "            break\n",
    "        cv.imshow(window_name, frame)\n",
    "        if cv.waitKey(frame_delay) & 0xFF == ord('q'):\n",
    "            break\n",
    "\n",
    "    cap.release()\n",
    "    cv.destroyAllWindows()\n",
    "    \n",
    "video_path = \"video.mp4\"\n",
    "display_video(video_path)"
   ]
  },
  {
   "cell_type": "code",
   "execution_count": 3,
   "id": "4f549e89",
   "metadata": {},
   "outputs": [
    {
     "name": "stdout",
     "output_type": "stream",
     "text": [
      "End of video.\n"
     ]
    }
   ],
   "source": [
    "def extract_frames(video_path, output_folder):\n",
    "    \n",
    "    if not os.path.exists(output_folder):\n",
    "        os.makedirs(output_folder)\n",
    "\n",
    "    cap = cv.VideoCapture(video_path)\n",
    "\n",
    "    if not cap.isOpened():\n",
    "        print(\"Error: Cannot open video.\")\n",
    "        return\n",
    "\n",
    "    frame_count = 0\n",
    "    while True:\n",
    "        ret, frame = cap.read()\n",
    "        if not ret:\n",
    "            print(\"End of video.\")\n",
    "            break\n",
    "        \n",
    "        frame_filename = os.path.join(output_folder, f\"frame_{frame_count:04d}.jpg\")\n",
    "        cv.imwrite(frame_filename, frame)\n",
    "        frame_count += 1\n",
    "\n",
    "    cap.release()\n",
    "\n",
    "video_path = \"video.mp4\"\n",
    "output_folder = \"frames\"\n",
    "extract_frames(video_path, output_folder)"
   ]
  },
  {
   "cell_type": "markdown",
   "id": "316f1924",
   "metadata": {},
   "source": [
    "### Extragerea foreground-ului folosind diferenta dintre frame-uri"
   ]
  },
  {
   "cell_type": "code",
   "execution_count": 4,
   "id": "fc4cb3d2",
   "metadata": {},
   "outputs": [
    {
     "ename": "error",
     "evalue": "OpenCV(4.10.0) D:\\a\\opencv-python\\opencv-python\\opencv\\modules\\core\\src\\arithm.cpp:661: error: (-209:Sizes of input arguments do not match) The operation is neither 'array op array' (where arrays have the same size and the same number of channels), nor 'array op scalar', nor 'scalar op array' in function 'cv::arithm_op'\n",
     "output_type": "error",
     "traceback": [
      "\u001b[1;31m---------------------------------------------------------------------------\u001b[0m",
      "\u001b[1;31merror\u001b[0m                                     Traceback (most recent call last)",
      "Cell \u001b[1;32mIn[4], line 30\u001b[0m\n\u001b[0;32m     28\u001b[0m output_video \u001b[38;5;241m=\u001b[39m \u001b[38;5;124m'\u001b[39m\u001b[38;5;124mframe_diff.mp4\u001b[39m\u001b[38;5;124m'\u001b[39m\n\u001b[0;32m     29\u001b[0m output_video2 \u001b[38;5;241m=\u001b[39m \u001b[38;5;124m'\u001b[39m\u001b[38;5;124mframe_diff_color.mp4\u001b[39m\u001b[38;5;124m'\u001b[39m\n\u001b[1;32m---> 30\u001b[0m \u001b[43mforeground_extraction_frame_difference\u001b[49m\u001b[43m(\u001b[49m\u001b[43mimage_folder\u001b[49m\u001b[43m,\u001b[49m\u001b[43m \u001b[49m\u001b[43moutput_video\u001b[49m\u001b[43m,\u001b[49m\u001b[43m \u001b[49m\u001b[43moutput_video2\u001b[49m\u001b[43m,\u001b[49m\u001b[43m \u001b[49m\u001b[43mfps\u001b[49m\u001b[38;5;241;43m=\u001b[39;49m\u001b[38;5;241;43m25\u001b[39;49m\u001b[43m)\u001b[49m\n",
      "Cell \u001b[1;32mIn[4], line 15\u001b[0m, in \u001b[0;36mforeground_extraction_frame_difference\u001b[1;34m(image_folder, output_video, output_video2, fps)\u001b[0m\n\u001b[0;32m     13\u001b[0m current_frame \u001b[38;5;241m=\u001b[39m cv\u001b[38;5;241m.\u001b[39mimread(os\u001b[38;5;241m.\u001b[39mpath\u001b[38;5;241m.\u001b[39mjoin(image_folder, image_name))\n\u001b[0;32m     14\u001b[0m \u001b[38;5;28;01mif\u001b[39;00m previous_frame \u001b[38;5;129;01mis\u001b[39;00m \u001b[38;5;129;01mnot\u001b[39;00m \u001b[38;5;28;01mNone\u001b[39;00m:\n\u001b[1;32m---> 15\u001b[0m     frame_diff \u001b[38;5;241m=\u001b[39m \u001b[43mcv\u001b[49m\u001b[38;5;241;43m.\u001b[39;49m\u001b[43mabsdiff\u001b[49m\u001b[43m(\u001b[49m\u001b[43mcurrent_frame\u001b[49m\u001b[43m,\u001b[49m\u001b[43m \u001b[49m\u001b[43mprevious_frame\u001b[49m\u001b[43m)\u001b[49m\n\u001b[0;32m     16\u001b[0m     gray_frame \u001b[38;5;241m=\u001b[39m cv\u001b[38;5;241m.\u001b[39mcvtColor(frame_diff, cv\u001b[38;5;241m.\u001b[39mCOLOR_BGR2GRAY)\n\u001b[0;32m     17\u001b[0m     _, binary_diff \u001b[38;5;241m=\u001b[39m cv\u001b[38;5;241m.\u001b[39mthreshold(gray_frame, \u001b[38;5;241m30\u001b[39m, \u001b[38;5;241m255\u001b[39m, cv\u001b[38;5;241m.\u001b[39mTHRESH_BINARY)\n",
      "\u001b[1;31merror\u001b[0m: OpenCV(4.10.0) D:\\a\\opencv-python\\opencv-python\\opencv\\modules\\core\\src\\arithm.cpp:661: error: (-209:Sizes of input arguments do not match) The operation is neither 'array op array' (where arrays have the same size and the same number of channels), nor 'array op scalar', nor 'scalar op array' in function 'cv::arithm_op'\n"
     ]
    }
   ],
   "source": [
    "def foreground_extraction_frame_difference(image_folder, output_video, output_video2, fps=25):\n",
    "\n",
    "    images = sorted([img for img in os.listdir(image_folder) if img.endswith(('.jpg'))])\n",
    "\n",
    "    first_frame = cv.imread(os.path.join(image_folder, images[0]))\n",
    "\n",
    "    height, width, _ = first_frame.shape\n",
    "    video = cv.VideoWriter(output_video, cv.VideoWriter_fourcc(*'mp4v'), fps, (width, height))\n",
    "    video2 = cv.VideoWriter(output_video2, cv.VideoWriter_fourcc(*'mp4v'), fps, (width, height))\n",
    "    \n",
    "    previous_frame = None\n",
    "    for image_name in images:\n",
    "        current_frame = cv.imread(os.path.join(image_folder, image_name))\n",
    "        if previous_frame is not None:\n",
    "            frame_diff = cv.absdiff(current_frame, previous_frame)\n",
    "            gray_frame = cv.cvtColor(frame_diff, cv.COLOR_BGR2GRAY)\n",
    "            _, binary_diff = cv.threshold(gray_frame, 30, 255, cv.THRESH_BINARY)\n",
    "            binary_diff_bgr = cv.cvtColor(binary_diff, cv.COLOR_GRAY2BGR)\n",
    "            video.write(binary_diff_bgr)\n",
    "            color_image = cv.bitwise_and(current_frame, binary_diff_bgr)\n",
    "            video2.write(color_image)\n",
    "        previous_frame = current_frame\n",
    "\n",
    "    video.release()\n",
    "    video2.release()\n",
    "\n",
    "image_folder = 'frames'\n",
    "output_video = 'frame_diff.mp4'\n",
    "output_video2 = 'frame_diff_color.mp4'\n",
    "foreground_extraction_frame_difference(image_folder, output_video, output_video2, fps=25)"
   ]
  },
  {
   "cell_type": "markdown",
   "id": "fed93112",
   "metadata": {},
   "source": [
    "### Extragerea unei imagini de background"
   ]
  },
  {
   "cell_type": "code",
   "execution_count": 11,
   "id": "6332f4d3",
   "metadata": {},
   "outputs": [],
   "source": [
    "def background_extraction(image_folder, method, k=None, x=None, y=None):\n",
    "    \n",
    "    images = sorted([img for img in os.listdir(image_folder) if img.endswith('.jpg')])\n",
    "    \n",
    "    selected_frames = []\n",
    "    if method == 'mean_first_k':\n",
    "        selected_frames = [cv.imread(os.path.join(image_folder, images[i])) for i in range(k)]\n",
    "    \n",
    "    elif method == 'median_first_k':\n",
    "        selected_frames = [cv.imread(os.path.join(image_folder, images[i])) for i in range(k)]\n",
    "    \n",
    "    elif method == 'mean_range':\n",
    "        selected_frames = [cv.imread(os.path.join(image_folder, images[i])) for i in range(x, y + 1)]\n",
    "    \n",
    "    elif method == 'median_range':\n",
    "        selected_frames = [cv.imread(os.path.join(image_folder, images[i])) for i in range(x, y + 1)]\n",
    "    \n",
    "    else:\n",
    "        raise ValueError(\"Invalid method\")\n",
    "    \n",
    "    if method.startswith('mean'):\n",
    "        background = np.mean(selected_frames, axis=0).astype(np.uint8)\n",
    "    elif method.startswith('median'):\n",
    "        background = np.median(selected_frames, axis=0).astype(np.uint8)\n",
    "    \n",
    "    return background"
   ]
  },
  {
   "cell_type": "markdown",
   "id": "7f50b275",
   "metadata": {},
   "source": [
    "### Extragerea foreground-ului folosind background fix"
   ]
  },
  {
   "cell_type": "code",
   "execution_count": 17,
   "id": "1e7dcd45",
   "metadata": {},
   "outputs": [],
   "source": [
    "def foreground_extraction_fixed_background(image_folder, method, output_video, output_video2, k=30, x=None, y=None, fps=25, processing=False):\n",
    "\t\n",
    "\timages = sorted([img for img in os.listdir(image_folder) if img.endswith('.jpg')])\n",
    "\n",
    "\tfirst_frame = cv.imread(os.path.join(image_folder, images[0]))\n",
    "\theight, width, _ = first_frame.shape\n",
    "\n",
    "\tvideo = cv.VideoWriter(output_video, cv.VideoWriter_fourcc(*'mp4v'), fps, (width, height))\n",
    "\tvideo2 = cv.VideoWriter(output_video2, cv.VideoWriter_fourcc(*'mp4v'), fps, (width, height))\n",
    "\n",
    "\tbackground = background_extraction(image_folder, method, k, x, y)\n",
    "\tfor image_name in images:\n",
    "\t\tcurrent_frame = cv.imread(os.path.join(image_folder, image_name))\n",
    "\t\tframe_diff = cv.absdiff(current_frame, background)\n",
    "\t\tgray_frame = cv.cvtColor(frame_diff, cv.COLOR_BGR2GRAY)\n",
    "\t\t_, binary_diff = cv.threshold(gray_frame, 40, 255, cv.THRESH_BINARY)\n",
    "\t\tbinary_diff_bgr = cv.cvtColor(binary_diff, cv.COLOR_GRAY2BGR)\n",
    "\t\tvideo.write(binary_diff_bgr)\n",
    "\t\tcolor_image = cv.bitwise_and(current_frame, binary_diff_bgr)\n",
    "\t\tvideo2.write(color_image)\n",
    "\n",
    "\tvideo.release()\n",
    "\tvideo2.release()\n",
    "\n",
    "image_folder = 'frames'\n",
    "output_video = 'mean_k.mp4'\n",
    "output_video2 = 'mean_k.mp4'\n",
    "foreground_extraction_fixed_background(image_folder, 'mean_first_k', output_video, output_video2, k=30, x=470, y=480, fps=25)"
   ]
  },
  {
   "cell_type": "markdown",
   "id": "0f5d09f1",
   "metadata": {},
   "source": [
    "### Extragerea foreground-ului folosind background adaptiv"
   ]
  },
  {
   "cell_type": "code",
   "execution_count": 18,
   "id": "01c8df35",
   "metadata": {},
   "outputs": [],
   "source": [
    "def foreground_extraction_adaptive_background(image_folder, method, output_video, output_video2, k=10,fps= 25,processing=False):\n",
    "\t\n",
    "\timages = sorted([img for img in os.listdir(image_folder) if img.endswith('.jpg')])\n",
    "\n",
    "\tfirst_frame = cv.imread(os.path.join(image_folder, images[0]))\n",
    "\theight, width, _ = first_frame.shape\n",
    "\n",
    "\tvideo = cv.VideoWriter(output_video, cv.VideoWriter_fourcc(*'mp4v'), fps, (width, height))\n",
    "\tvideo2 = cv.VideoWriter(output_video2, cv.VideoWriter_fourcc(*'mp4v'), fps, (width, height))\n",
    "\n",
    "\tcount = k\n",
    "\tfor image_name in images[k:]:\n",
    "\t\tbackground = background_extraction(image_folder, method, k, x=count-k, y=count-1)\n",
    "\t\tcurrent_frame = cv.imread(os.path.join(image_folder, image_name))\n",
    "\t\tframe_diff = cv.absdiff(current_frame, background)\n",
    "\t\tgray_frame = cv.cvtColor(frame_diff, cv.COLOR_BGR2GRAY)\n",
    "\t\t_, binary_diff = cv.threshold(gray_frame, 40, 255, cv.THRESH_BINARY)\n",
    "\t\tbinary_diff_bgr = cv.cvtColor(binary_diff, cv.COLOR_GRAY2BGR)\n",
    "\t\tcount += 1\n",
    "\t\tvideo.write(binary_diff_bgr)\n",
    "\t\tcolor_image = cv.bitwise_and(current_frame, binary_diff_bgr)\n",
    "\t\tvideo2.write(color_image)\n",
    "\t\t\n",
    "\tvideo.release()\n",
    "\tvideo2.release()\n",
    "\n",
    "image_folder = 'frames'\n",
    "output_video = 'adaptive.mp4'\n",
    "output_video2 = 'adaptive_color.mp4'\n",
    "foreground_extraction_adaptive_background(image_folder, 'median_range', output_video, output_video2, k=10, fps=25)"
   ]
  },
  {
   "cell_type": "markdown",
   "id": "f6edec22",
   "metadata": {},
   "source": [
    "### Numararea obiectelor din video"
   ]
  },
  {
   "cell_type": "code",
   "execution_count": 19,
   "id": "594baf85",
   "metadata": {},
   "outputs": [],
   "source": [
    "def calculate_iou(bbox1, bbox2):\n",
    "    x1, y1, w1, h1 = bbox1\n",
    "    x2, y2, w2, h2 = bbox2\n",
    "    x_left = max(x1, x2)\n",
    "    y_top = max(y1, y2)\n",
    "    x_right = min(x1 + w1, x2 + w2)\n",
    "    y_bottom = min(y1 + h1, y2 + h2)\n",
    "\n",
    "    if x_right <= x_left or y_bottom <= y_top:\n",
    "        return 0  \n",
    "\n",
    "    intersection_area = (x_right - x_left) * (y_bottom - y_top)\n",
    "    area1 = w1 * h1\n",
    "    area2 = w2 * h2\n",
    "    union_area = area1 + area2 - intersection_area\n",
    "\n",
    "    iou = intersection_area / union_area\n",
    "    return iou"
   ]
  },
  {
   "cell_type": "code",
   "execution_count": 25,
   "id": "224fd156",
   "metadata": {},
   "outputs": [],
   "source": [
    "image_folder = 'frames'\n",
    "output_video = 'count_cars.mp4'\n",
    "output_video2 = 'count_cars_color.mp4'\n",
    "fps = 25\n",
    "\n",
    "images = sorted([img for img in os.listdir(image_folder) if img.endswith('.jpg')])\n",
    "\n",
    "first_frame = cv.imread(os.path.join(image_folder, images[0]))\n",
    "height, width, _ = first_frame.shape\n",
    "\n",
    "video = cv.VideoWriter(output_video, cv.VideoWriter_fourcc(*'mp4v'), fps, (width, height))\n",
    "video2 = cv.VideoWriter(output_video2, cv.VideoWriter_fourcc(*'mp4v'), fps, (width, height))\n",
    "\n",
    "background = background_extraction(image_folder, 'median_range', k=30, x=470, y=480)\n",
    "\n",
    "previous_contours = []  \n",
    "total_passed_count = 0  \n",
    "\n",
    "for image_name in images:\n",
    "\tcurrent_frame = cv.imread(os.path.join(image_folder, image_name))\n",
    "\tframe_diff = cv.absdiff(current_frame, background)\n",
    "\tgray_frame = cv.cvtColor(frame_diff, cv.COLOR_BGR2GRAY)\n",
    "\t_, binary_diff = cv.threshold(gray_frame, 40, 255, cv.THRESH_BINARY)\n",
    "\tbinary_diff = cv.dilate(binary_diff, (5, 5))\n",
    "\tbinary_diff_bgr = cv.cvtColor(binary_diff, cv.COLOR_GRAY2BGR)\n",
    "\tmiddle = height // 2\n",
    "\tcv.line(current_frame, (0, middle), (width, middle), (0, 0, 255), 2)\n",
    "\tcontours, _ = cv.findContours(binary_diff, cv.RETR_EXTERNAL, cv.CHAIN_APPROX_SIMPLE)\n",
    "\tnew_contours = []\n",
    "\n",
    "\tfor contour in contours:\n",
    "\t\tx, y, w, h = cv.boundingRect(contour)\n",
    "\t\tif cv.contourArea(contour) >= 700:\n",
    "\t\t\tcenter_bbox = y + h // 2\n",
    "\t\t\tif middle - 10 <= center_bbox <= middle + 10:\n",
    "\t\t\t\tnew = True\n",
    "\t\t\t\tfor previous_contour in previous_contours:\n",
    "\t\t\t\t\tiou = calculate_iou(previous_contour, (x, y, w, h))\n",
    "\t\t\t\t\tif iou > 0.5:\n",
    "\t\t\t\t\t\tnew = False\n",
    "\t\t\t\t\t\tbreak\n",
    "\t\t\t\tif new:\n",
    "\t\t\t\t\ttotal_passed_count += 1\n",
    "\t\t\t\tnew_contours.append((x, y, w, h))\n",
    "\t\t\t\tcv.rectangle(current_frame, (x, y), (x + w, y + h), (0, 255, 0), 2)\n",
    "\n",
    "\tprevious_contours = new_contours.copy()\n",
    "\t\t\n",
    "\tcv.putText(current_frame, f'{total_passed_count}', (10, 30), cv.FONT_HERSHEY_SIMPLEX, 1, (255, 255, 255), 2, cv.LINE_AA)\n",
    "\tvideo.write(binary_diff_bgr)\n",
    "\tvideo2.write(current_frame)\n",
    "\n",
    "video.release()\n",
    "video2.release()"
   ]
  }
 ],
 "metadata": {
  "kernelspec": {
   "display_name": "vision_env",
   "language": "python",
   "name": "python3"
  },
  "language_info": {
   "codemirror_mode": {
    "name": "ipython",
    "version": 3
   },
   "file_extension": ".py",
   "mimetype": "text/x-python",
   "name": "python",
   "nbconvert_exporter": "python",
   "pygments_lexer": "ipython3",
   "version": "3.12.7"
  }
 },
 "nbformat": 4,
 "nbformat_minor": 5
}
