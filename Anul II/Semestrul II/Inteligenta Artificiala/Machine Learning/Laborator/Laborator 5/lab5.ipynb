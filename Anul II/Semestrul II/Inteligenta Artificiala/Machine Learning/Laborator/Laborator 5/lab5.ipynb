{
 "cells": [
  {
   "cell_type": "code",
   "execution_count": 15,
   "id": "initial_id",
   "metadata": {
    "collapsed": true,
    "ExecuteTime": {
     "end_time": "2024-05-20T17:22:21.573383Z",
     "start_time": "2024-05-20T17:22:21.566831Z"
    }
   },
   "outputs": [],
   "source": [
    "import numpy as np \n",
    "from sklearn.utils import shuffle \n",
    "\n",
    "# load training data \n",
    "data = np.load('data_lab6/data/training_data.npy') \n",
    "prices = np.load('data_lab6/data/prices.npy')\n",
    "\n",
    "# shuffle \n",
    "data, prices = shuffle(data, prices, random_state=0)"
   ]
  },
  {
   "cell_type": "code",
   "outputs": [],
   "source": [
    "# 1\n",
    "def normalize(training_data, testing_data):\n",
    "    mean_training_data = np.mean(training_data, axis=0)\n",
    "    std_training_data = np.std(training_data, axis=0)\n",
    "    std_training_data = np.add(std_training_data, 1e-10)\n",
    "    normalized_training_data = np.divide(np.subtract(training_data, mean_training_data), std_training_data)\n",
    "    mean_testing_data = np.mean(testing_data, axis=0)\n",
    "    std_testing_data = np.std(testing_data, axis=0)\n",
    "    std_testing_data = np.add(std_testing_data, 1e-10)\n",
    "    normalized_testing_data = np.divide(np.subtract(testing_data, mean_testing_data), std_testing_data)\n",
    "    return normalized_training_data, normalized_testing_data"
   ],
   "metadata": {
    "collapsed": false,
    "ExecuteTime": {
     "end_time": "2024-05-20T17:22:22.482991Z",
     "start_time": "2024-05-20T17:22:22.477969Z"
    }
   },
   "id": "b33741dc8a121c3b",
   "execution_count": 16
  },
  {
   "cell_type": "code",
   "outputs": [],
   "source": [
    "# split data into training and testing data\n",
    "from sklearn.model_selection import KFold\n",
    "kf = KFold(n_splits=3)"
   ],
   "metadata": {
    "collapsed": false,
    "ExecuteTime": {
     "end_time": "2024-05-20T17:22:23.393879Z",
     "start_time": "2024-05-20T17:22:23.390137Z"
    }
   },
   "id": "4368588cc2b1d47b",
   "execution_count": 17
  },
  {
   "cell_type": "code",
   "outputs": [
    {
     "name": "stdout",
     "output_type": "stream",
     "text": [
      "Average MSE: 3.1793898741404214, Average MAE: 1.3224879105885823\n"
     ]
    }
   ],
   "source": [
    "# 2\n",
    "from sklearn.linear_model import LinearRegression\n",
    "from sklearn.metrics import mean_squared_error, mean_absolute_error\n",
    "\n",
    "linear_regression_model = LinearRegression()\n",
    "\n",
    "average_mse = 0\n",
    "average_mae = 0\n",
    "\n",
    "for train_index, test_index in kf.split(data):\n",
    "    X_train, X_test = data[train_index], data[test_index]\n",
    "    y_train, y_test = prices[train_index], prices[test_index]\n",
    "    X_train, X_test = normalize(X_train, X_test)\n",
    "    linear_regression_model.fit(X_train, y_train)\n",
    "    y_pred = linear_regression_model.predict(X_test)\n",
    "    mse = mean_squared_error(y_test, y_pred)\n",
    "    mae = mean_absolute_error(y_test, y_pred)\n",
    "    average_mse += mse\n",
    "    average_mae += mae\n",
    "    \n",
    "average_mse /= 3\n",
    "average_mae /= 3\n",
    "print(f'Average MSE: {average_mse}, Average MAE: {average_mae}')"
   ],
   "metadata": {
    "collapsed": false,
    "ExecuteTime": {
     "end_time": "2024-05-20T17:22:23.986013Z",
     "start_time": "2024-05-20T17:22:23.970053Z"
    }
   },
   "id": "bc1464bb078f9a65",
   "execution_count": 18
  },
  {
   "cell_type": "code",
   "outputs": [
    {
     "name": "stdout",
     "output_type": "stream",
     "text": [
      "Alpha: 1, Average MSE: 3.179354429244995, Average MAE: 1.3224618037541707\n",
      "Alpha: 10, Average MSE: 3.179126739501953, Average MAE: 1.3222633600234985\n",
      "Alpha: 100, Average MSE: 3.183377265930176, Average MAE: 1.3216320276260376\n",
      "Alpha: 1000, Average MSE: 3.441384236017863, Average MAE: 1.368357261021932\n"
     ]
    }
   ],
   "source": [
    "# 3\n",
    "from sklearn.linear_model import Ridge\n",
    "\n",
    "alpha_values = [1, 10, 100, 1000]\n",
    "\n",
    "for alpha in alpha_values:\n",
    "    ridge_regression_model = Ridge(alpha=alpha)\n",
    "    average_mse = 0\n",
    "    average_mae = 0\n",
    "    \n",
    "    for train_index, test_index in kf.split(data):\n",
    "        X_train, X_test = data[train_index], data[test_index]\n",
    "        y_train, y_test = prices[train_index], prices[test_index]\n",
    "        X_train, X_test = normalize(X_train, X_test)\n",
    "        ridge_regression_model.fit(X_train, y_train)\n",
    "        y_pred = ridge_regression_model.predict(X_test)\n",
    "        mse = mean_squared_error(y_test, y_pred)\n",
    "        mae = mean_absolute_error(y_test, y_pred)\n",
    "        average_mse += mse\n",
    "        average_mae += mae\n",
    "        \n",
    "    average_mse /= 3\n",
    "    average_mae /= 3\n",
    "    print(f'Alpha: {alpha}, Average MSE: {average_mse}, Average MAE: {average_mae}')"
   ],
   "metadata": {
    "collapsed": false,
    "ExecuteTime": {
     "end_time": "2024-05-20T17:22:26.095560Z",
     "start_time": "2024-05-20T17:22:26.058079Z"
    }
   },
   "id": "66f9319373d98122",
   "execution_count": 19
  },
  {
   "cell_type": "code",
   "outputs": [
    {
     "name": "stdout",
     "output_type": "stream",
     "text": [
      "Coefficients: [ 1.6635175  -0.15533401 -0.46034163  0.40463796  1.3356767   0.13251601\n",
      " -0.08683655  0.          0.36667582 -0.36666915  0.          0.\n",
      " -0.22941917  0.22933263]\n",
      "Bias: 5.69512939453125\n",
      "Most significant feature: 1\n",
      "Second most significant feature: 5\n",
      "Least significant feature: 8\n"
     ]
    },
    {
     "name": "stderr",
     "output_type": "stream",
     "text": [
      "C:\\Python311\\Lib\\site-packages\\numpy\\core\\fromnumeric.py:3464: RuntimeWarning: Mean of empty slice.\n",
      "  return _methods._mean(a, axis=axis, dtype=dtype,\n",
      "C:\\Python311\\Lib\\site-packages\\numpy\\core\\_methods.py:192: RuntimeWarning: invalid value encountered in scalar divide\n",
      "  ret = ret.dtype.type(ret / rcount)\n",
      "C:\\Python311\\Lib\\site-packages\\numpy\\core\\_methods.py:269: RuntimeWarning: Degrees of freedom <= 0 for slice\n",
      "  ret = _var(a, axis=axis, dtype=dtype, out=out, ddof=ddof,\n",
      "C:\\Python311\\Lib\\site-packages\\numpy\\core\\_methods.py:226: RuntimeWarning: invalid value encountered in divide\n",
      "  arrmean = um.true_divide(arrmean, div, out=arrmean,\n",
      "C:\\Python311\\Lib\\site-packages\\numpy\\core\\_methods.py:261: RuntimeWarning: invalid value encountered in scalar divide\n",
      "  ret = ret.dtype.type(ret / rcount)\n"
     ]
    }
   ],
   "source": [
    "# 4\n",
    "ridge_regression_model = Ridge(alpha=10)\n",
    "data, _ = normalize(data, [])\n",
    "ridge_regression_model.fit(data, prices)\n",
    "\n",
    "coefficients = ridge_regression_model.coef_\n",
    "bias = ridge_regression_model.intercept_\n",
    "\n",
    "print(f'Coefficients: {coefficients}')\n",
    "print(f'Bias: {bias}')\n",
    "\n",
    "abs_coefficients = np.abs(coefficients)\n",
    "sorted_indices = np.argsort(abs_coefficients)[::-1]\n",
    "print('Most significant feature:', sorted_indices[0] + 1)\n",
    "print('Second most significant feature:', sorted_indices[1] + 1)\n",
    "print('Least significant feature:', sorted_indices[-1] + 1)"
   ],
   "metadata": {
    "collapsed": false,
    "ExecuteTime": {
     "end_time": "2024-05-20T17:26:06.349099Z",
     "start_time": "2024-05-20T17:26:06.327334Z"
    }
   },
   "id": "88e3db1c560edb9",
   "execution_count": 23
  },
  {
   "cell_type": "code",
   "outputs": [],
   "source": [],
   "metadata": {
    "collapsed": false
   },
   "id": "5822363f2d7a9f58"
  }
 ],
 "metadata": {
  "kernelspec": {
   "display_name": "Python 3",
   "language": "python",
   "name": "python3"
  },
  "language_info": {
   "codemirror_mode": {
    "name": "ipython",
    "version": 2
   },
   "file_extension": ".py",
   "mimetype": "text/x-python",
   "name": "python",
   "nbconvert_exporter": "python",
   "pygments_lexer": "ipython2",
   "version": "2.7.6"
  }
 },
 "nbformat": 4,
 "nbformat_minor": 5
}
