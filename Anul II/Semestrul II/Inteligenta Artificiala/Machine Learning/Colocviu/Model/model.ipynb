{
 "cells": [
  {
   "cell_type": "code",
   "execution_count": null,
   "id": "initial_id",
   "metadata": {
    "collapsed": true
   },
   "outputs": [],
   "source": [
    "# 1\n",
    "# pentru pixelii din margine: facem padding (cu orice, in solutiq era -1, putem si 256)\n",
    "# ideea e sa fie la fel\n",
    "# obtinem vectorii cu 0 si 1\n",
    "# pentru frecventa putem sa folosim un dictionar\n",
    "# cu cheile valorile in baza 10 a vectorilor (sau stringuri cu vectorul)\n",
    "# si valorile frecventa"
   ]
  },
  {
   "cell_type": "code",
   "outputs": [],
   "source": [
    "# 2\n",
    "# in loc de sobel putem sa comparam 2 pixeli (pt margine facem padding)\n",
    "# p0 p1\n",
    "# p2 p3\n",
    "# pentru a calcula gradientul pentru p0: \n",
    "# pe directia x facem p0 - p1\n",
    "# pe directia y facem p0 - p2\n",
    "# gen p0 e x si e e p1 sau p2 (cred?)"
   ],
   "metadata": {
    "collapsed": false
   },
   "id": "a2c67ab720b98674"
  },
  {
   "cell_type": "code",
   "outputs": [],
   "source": [
    "# 3\n",
    "# daca directie a 15 grade, comparam pixelul din stanga cu cel din dreapta\n",
    "# daca directie e 90 de grade, comparam pixelul de sus cu cel de jos"
   ],
   "metadata": {
    "collapsed": false
   },
   "id": "92d0b5892042b93c"
  },
  {
   "cell_type": "code",
   "outputs": [],
   "source": [
    "# 4\n",
    "# folosim knn din scikit learn (nu implementam de mana)"
   ],
   "metadata": {
    "collapsed": false
   },
   "id": "19d66004fea157ae"
  },
  {
   "cell_type": "code",
   "outputs": [],
   "source": [
    "# 5\n",
    "# clf = SVC(kernel='precomputed')"
   ],
   "metadata": {
    "collapsed": false
   },
   "id": "dc96531591752c23"
  },
  {
   "cell_type": "code",
   "outputs": [
    {
     "name": "stdout",
     "output_type": "stream",
     "text": [
      "[[[ 0  1  2  3]\n",
      "  [ 4  5  6  7]\n",
      "  [ 8  9 10 11]]\n",
      "\n",
      " [[12 13 14 15]\n",
      "  [16 17 18 19]\n",
      "  [20 21 22 23]]]\n",
      "\n",
      "[[12 14 16 18]\n",
      " [20 22 24 26]\n",
      " [28 30 32 34]]\n",
      "\n",
      "[[12 15 18 21]\n",
      " [48 51 54 57]]\n",
      "\n",
      "[[ 6 22 38]\n",
      " [54 70 86]]\n",
      "\n",
      "[60 66 72 78]\n"
     ]
    }
   ],
   "source": [
    "import numpy as np\n",
    "\n",
    "x = np.arange(24).reshape(2, 3, 4)\n",
    "print(x)\n",
    "print()\n",
    "print(np.sum(x, axis=0))\n",
    "print()\n",
    "print(np.sum(x, axis=1))\n",
    "print()\n",
    "print(np.sum(x, axis=2))\n",
    "print()\n",
    "print(np.sum(x, axis=(0, 1)))"
   ],
   "metadata": {
    "collapsed": false,
    "ExecuteTime": {
     "end_time": "2024-06-07T12:43:32.648157Z",
     "start_time": "2024-06-07T12:43:32.643018Z"
    }
   },
   "id": "999ece11c624fda2",
   "execution_count": 8
  },
  {
   "cell_type": "code",
   "outputs": [
    {
     "name": "stdout",
     "output_type": "stream",
     "text": [
      "[[0. 0. 0.]\n",
      " [0. 0. 0.]\n",
      " [0. 0. 0.]]\n"
     ]
    }
   ],
   "source": [
    "h = np.zeros((3, 3))\n",
    "print(h)"
   ],
   "metadata": {
    "collapsed": false,
    "ExecuteTime": {
     "end_time": "2024-06-07T13:54:22.149209Z",
     "start_time": "2024-06-07T13:54:22.117546Z"
    }
   },
   "id": "b2560e94df851880",
   "execution_count": 10
  },
  {
   "cell_type": "code",
   "outputs": [
    {
     "name": "stdout",
     "output_type": "stream",
     "text": [
      "[[1 2 3 4]\n",
      " [5 6 7 8]]\n",
      "[[[1 2]\n",
      "  [3 4]]\n",
      "\n",
      " [[5 6]\n",
      "  [7 8]]]\n"
     ]
    }
   ],
   "source": [
    "x = [[1, 2, 3, 4], [5, 6, 7, 8]]\n",
    "x = np.array(x)\n",
    "print(x)\n",
    "x = x.reshape(-1, 2, 2)\n",
    "print(x)"
   ],
   "metadata": {
    "collapsed": false,
    "ExecuteTime": {
     "end_time": "2024-06-07T13:55:46.501990Z",
     "start_time": "2024-06-07T13:55:46.492893Z"
    }
   },
   "id": "96a2d06459310ada",
   "execution_count": 11
  },
  {
   "cell_type": "code",
   "outputs": [
    {
     "name": "stdout",
     "output_type": "stream",
     "text": [
      "[[ 1  2  3  4]\n",
      " [ 5  6  7  8]\n",
      " [ 9 10 11 12]\n",
      " [13 14 15 16]]\n",
      "\n",
      "[[[ 1  2]\n",
      "  [ 3  4]]\n",
      "\n",
      " [[ 5  6]\n",
      "  [ 7  8]]\n",
      "\n",
      " [[ 9 10]\n",
      "  [11 12]]\n",
      "\n",
      " [[13 14]\n",
      "  [15 16]]]\n"
     ]
    }
   ],
   "source": [
    "x = np.array([[1, 2, 3, 4], [5, 6, 7, 8], [9, 10, 11, 12], [13, 14, 15, 16]])\n",
    "print(x)\n",
    "print()\n",
    "x = x.reshape(-1, 2, 2)\n",
    "print(x)"
   ],
   "metadata": {
    "collapsed": false,
    "ExecuteTime": {
     "end_time": "2024-06-07T19:27:37.978931Z",
     "start_time": "2024-06-07T19:27:37.969761Z"
    }
   },
   "id": "522d7288704b0271",
   "execution_count": 13
  },
  {
   "cell_type": "code",
   "outputs": [],
   "source": [],
   "metadata": {
    "collapsed": false
   },
   "id": "e44a216175d6b15c"
  }
 ],
 "metadata": {
  "kernelspec": {
   "display_name": "Python 3",
   "language": "python",
   "name": "python3"
  },
  "language_info": {
   "codemirror_mode": {
    "name": "ipython",
    "version": 2
   },
   "file_extension": ".py",
   "mimetype": "text/x-python",
   "name": "python",
   "nbconvert_exporter": "python",
   "pygments_lexer": "ipython2",
   "version": "2.7.6"
  }
 },
 "nbformat": 4,
 "nbformat_minor": 5
}
